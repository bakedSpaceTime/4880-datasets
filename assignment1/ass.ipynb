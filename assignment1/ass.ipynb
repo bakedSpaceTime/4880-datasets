{
 "cells": [
  {
   "cell_type": "code",
   "execution_count": null,
   "id": "328ab9e2",
   "metadata": {},
   "outputs": [],
   "source": [
    "# this part is what nolan wrote                         \n",
    "#                         ,--,                            \n",
    "#                       ,--.'|                            \n",
    "#       ,---,    ,---.  |  | :                     ,---,  \n",
    "#   ,-+-. /  |  '   ,'\\ :  : '                 ,-+-. /  | \n",
    "#  ,--.'|'   | /   /   ||  ' |     ,--.--.    ,--.'|'   | \n",
    "# |   |  ,\"' |.   ; ,. :'  | |    /       \\  |   |  ,\"' | \n",
    "# |   | /  | |'   | |: :|  | :   .--.  .-. | |   | /  | | \n",
    "# |   | |  | |'   | .; :'  : |__  \\__\\/: . . |   | |  | | \n",
    "# |   | |  |/ |   :    ||  | '.'| ,\" .--.; | |   | |  |/  \n",
    "# |   | |--'   \\   \\  / ;  :    ;/  /  ,.  | |   | |--'   \n",
    "# |   |/        `----'  |  ,   /;  :   .'   \\|   |/       \n",
    "# '---'                  ---`-' |  ,     .-./'---'        \n",
    "#                                `--`---'                 \n",
    "                                                        \n",
    "\n",
    "import glob\n",
    "import numpy as np\n",
    "import pandas\n",
    "from pandas import Series, DataFrame\n",
    "import matplotlib.pyplot as plt\n",
    "\n",
    "files = glob.glob('weather_data/*.csv')\n",
    "\n",
    "metadata = pandas.read_csv('weather_data/meta/crmp_network_geoserver.csv')\n",
    "data_arr = [pandas.read_csv(f) for f in files]\n",
    "\n",
    "print(metadata)\n",
    "for data in data_arr:\n",
    "  print(data)"
   ]
  }
 ],
 "metadata": {
  "kernelspec": {
   "display_name": "Python 3",
   "language": "python",
   "name": "python3"
  },
  "language_info": {
   "codemirror_mode": {
    "name": "ipython",
    "version": 3
   },
   "file_extension": ".py",
   "mimetype": "text/x-python",
   "name": "python",
   "nbconvert_exporter": "python",
   "pygments_lexer": "ipython3",
   "version": "3.8.8"
  }
 },
 "nbformat": 4,
 "nbformat_minor": 5
}
